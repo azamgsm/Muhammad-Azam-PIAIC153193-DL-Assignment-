{
 "cells": [
  {
   "cell_type": "code",
   "execution_count": 1,
   "metadata": {
    "id": "MHeMvFpkR-Oe"
   },
   "outputs": [
    {
     "name": "stdout",
     "output_type": "stream",
     "text": [
      "INFO:tensorflow:Enabling eager execution\n",
      "INFO:tensorflow:Enabling v2 tensorshape\n",
      "INFO:tensorflow:Enabling resource variables\n",
      "INFO:tensorflow:Enabling tensor equality\n",
      "INFO:tensorflow:Enabling control flow v2\n"
     ]
    }
   ],
   "source": [
    "import numpy as np\n",
    "import pandas as pd\n",
    "import tensorflow as tf\n",
    "from tensorflow.keras import models\n",
    "from tensorflow.keras import layers\n",
    "from tensorflow.keras.preprocessing.image import ImageDataGenerator\n",
    "from tensorflow.keras.models import Sequential\n",
    "from tensorflow.keras.layers import Dense, Flatten\n",
    "from tensorflow.keras.optimizers import RMSprop\n"
   ]
  },
  {
   "cell_type": "code",
   "execution_count": 7,
   "metadata": {
    "colab": {
     "base_uri": "https://localhost:8080/"
    },
    "id": "gu8R1NyOv9Gv",
    "outputId": "2012785e-c9d0-470f-8721-f3cd0e984991"
   },
   "outputs": [
    {
     "name": "stdout",
     "output_type": "stream",
     "text": [
      "Found 3028 images belonging to 5 classes.\n",
      "Found 1295 images belonging to 5 classes.\n"
     ]
    }
   ],
   "source": [
    "val_batch = 10\n",
    "train_batch = 32\n",
    "train_datagen = ImageDataGenerator(\n",
    "        rescale=1./255,\n",
    "        validation_split=0.30,\n",
    "        )\n",
    "train_generator = train_datagen.flow_from_directory(\n",
    "        './data',\n",
    "        target_size=(180, 180),\n",
    "        batch_size=train_batch,\n",
    "        class_mode='sparse',\n",
    "        subset = 'training',\n",
    "        color_mode = 'rgb',\n",
    "        shuffle = True,\n",
    "        )\n",
    "validation_generator = train_datagen.flow_from_directory(\n",
    "        './data',\n",
    "        target_size=(180, 180),\n",
    "        batch_size=val_batch,\n",
    "        class_mode='sparse',\n",
    "        subset = 'validation',\n",
    "        color_mode = 'rgb',\n",
    "        shuffle= True)"
   ]
  },
  {
   "cell_type": "code",
   "execution_count": 8,
   "metadata": {
    "colab": {
     "base_uri": "https://localhost:8080/"
    },
    "id": "RR13ZEf7-zus",
    "outputId": "2f6845c0-9df3-43ca-f72b-fda785cc3f7d"
   },
   "outputs": [
    {
     "data": {
      "text/plain": [
       "{'daisy': 0, 'dandelion': 1, 'rose': 2, 'sunflower': 3, 'tulip': 4}"
      ]
     },
     "execution_count": 8,
     "metadata": {},
     "output_type": "execute_result"
    }
   ],
   "source": [
    "train_generator.class_indices"
   ]
  },
  {
   "cell_type": "code",
   "execution_count": 5,
   "metadata": {
    "colab": {
     "base_uri": "https://localhost:8080/"
    },
    "id": "LqDb5wQt9NSe",
    "outputId": "018c928c-f59e-472d-91af-d1feceff2d3e"
   },
   "outputs": [
    {
     "data": {
      "text/plain": [
       "tensorflow.python.keras.preprocessing.image.ImageDataGenerator"
      ]
     },
     "execution_count": 5,
     "metadata": {},
     "output_type": "execute_result"
    }
   ],
   "source": [
    "type(train_datagen)"
   ]
  },
  {
   "cell_type": "code",
   "execution_count": 5,
   "metadata": {},
   "outputs": [
    {
     "data": {
      "text/plain": [
       "tensorflow.python.keras.preprocessing.image.DirectoryIterator"
      ]
     },
     "execution_count": 5,
     "metadata": {},
     "output_type": "execute_result"
    }
   ],
   "source": [
    "type(train_generator)"
   ]
  },
  {
   "cell_type": "code",
   "execution_count": 9,
   "metadata": {
    "colab": {
     "base_uri": "https://localhost:8080/"
    },
    "id": "I0JAwzvh9blZ",
    "outputId": "dfcf9483-63c5-4b2a-a8b1-f196f21ad185"
   },
   "outputs": [
    {
     "data": {
      "text/plain": [
       "array([3., 2., 0., 3., 0., 2., 1., 4., 4., 3., 1., 2., 1., 0., 1., 2., 1.,\n",
       "       3., 3., 1., 0., 3., 1., 0., 4., 2., 4., 2., 0., 1., 1., 4.],\n",
       "      dtype=float32)"
      ]
     },
     "execution_count": 9,
     "metadata": {},
     "output_type": "execute_result"
    }
   ],
   "source": [
    "train_generator[31][1]"
   ]
  },
  {
   "cell_type": "code",
   "execution_count": 24,
   "metadata": {
    "id": "MECEactbpYY2"
   },
   "outputs": [],
   "source": [
    "from tensorflow.keras.models import Sequential\n",
    "from tensorflow.keras.layers import Dense, Dropout,Flatten\n",
    "model = Sequential()\n",
    "model.add(Flatten())\n",
    "model.add(Dense(10, activation='relu'))\n",
    "model.add(layers.Dropout(0.2))\n",
    "model.add(Dense(8, activation='elu'))\n",
    "model.add(layers.Dropout(0.2))\n",
    "model.add(Dense(5,  activation='softmax))"
   ]
  },
  {
   "cell_type": "code",
   "execution_count": 25,
   "metadata": {
    "id": "2QFL7tA4D0Sa"
   },
   "outputs": [],
   "source": [
    "model.compile(optimizer='rmsprop',\n",
    "loss='sparse_categorical_crossentropy',\n",
    "metrics=['accuracy'])"
   ]
  },
  {
   "cell_type": "code",
   "execution_count": 26,
   "metadata": {
    "id": "kBJbtQp1fhfx"
   },
   "outputs": [],
   "source": [
    "# %tensorflow_version 2.x\n",
    "import tensorflow as tf"
   ]
  },
  {
   "cell_type": "code",
   "execution_count": 27,
   "metadata": {
    "colab": {
     "base_uri": "https://localhost:8080/"
    },
    "id": "mwG7_qctxUBl",
    "outputId": "a657cddc-ae3a-4e12-bd0e-8bf0f672af9e"
   },
   "outputs": [
    {
     "name": "stdout",
     "output_type": "stream",
     "text": [
      "Epoch 1/20\n",
      "20/20 [==============================] - 9s 401ms/step - loss: 2.3530 - accuracy: 0.2144 - val_loss: 1.6073 - val_accuracy: 0.2363\n",
      "Epoch 2/20\n",
      "20/20 [==============================] - 8s 416ms/step - loss: 1.6040 - accuracy: 0.2511 - val_loss: 1.6059 - val_accuracy: 0.2409\n",
      "Epoch 3/20\n",
      "20/20 [==============================] - 8s 420ms/step - loss: 1.6033 - accuracy: 0.2559 - val_loss: 1.6045 - val_accuracy: 0.2425\n",
      "Epoch 4/20\n",
      "20/20 [==============================] - 6s 314ms/step - loss: 1.6001 - accuracy: 0.2675 - val_loss: 1.6076 - val_accuracy: 0.2386\n",
      "Epoch 5/20\n",
      "20/20 [==============================] - 7s 368ms/step - loss: 1.8151 - accuracy: 0.1885 - val_loss: 1.6044 - val_accuracy: 0.2432\n",
      "Epoch 6/20\n",
      "20/20 [==============================] - 8s 425ms/step - loss: 1.5984 - accuracy: 0.2424 - val_loss: 1.6022 - val_accuracy: 0.2432\n",
      "Epoch 7/20\n",
      "20/20 [==============================] - 8s 434ms/step - loss: 1.6041 - accuracy: 0.2251 - val_loss: 1.6019 - val_accuracy: 0.2432\n",
      "Epoch 8/20\n",
      "20/20 [==============================] - 8s 432ms/step - loss: 1.5983 - accuracy: 0.2619 - val_loss: 1.6013 - val_accuracy: 0.2440\n",
      "Epoch 9/20\n",
      "20/20 [==============================] - 9s 471ms/step - loss: 1.6132 - accuracy: 0.2259 - val_loss: 1.6006 - val_accuracy: 0.2432\n",
      "Epoch 10/20\n",
      "20/20 [==============================] - 7s 355ms/step - loss: 1.5989 - accuracy: 0.2524 - val_loss: 1.6004 - val_accuracy: 0.2417\n",
      "Epoch 11/20\n",
      "20/20 [==============================] - 8s 435ms/step - loss: 1.5993 - accuracy: 0.2651 - val_loss: 1.5997 - val_accuracy: 0.2432\n",
      "Epoch 12/20\n",
      "20/20 [==============================] - 10s 505ms/step - loss: 1.5985 - accuracy: 0.2441 - val_loss: 1.5992 - val_accuracy: 0.2432\n",
      "Epoch 13/20\n",
      "20/20 [==============================] - 7s 339ms/step - loss: 1.5927 - accuracy: 0.2493 - val_loss: 1.5990 - val_accuracy: 0.2432\n",
      "Epoch 14/20\n",
      "20/20 [==============================] - 6s 327ms/step - loss: 1.5986 - accuracy: 0.2649 - val_loss: 1.5989 - val_accuracy: 0.2432\n",
      "Epoch 15/20\n",
      "20/20 [==============================] - 9s 472ms/step - loss: 1.5863 - accuracy: 0.2692 - val_loss: 1.5989 - val_accuracy: 0.2432\n",
      "Epoch 16/20\n",
      "20/20 [==============================] - 8s 405ms/step - loss: 1.6007 - accuracy: 0.2388 - val_loss: 1.5994 - val_accuracy: 0.2425\n",
      "Epoch 17/20\n",
      "20/20 [==============================] - 8s 416ms/step - loss: 1.5879 - accuracy: 0.2829 - val_loss: 1.5988 - val_accuracy: 0.2432\n",
      "Epoch 18/20\n",
      "20/20 [==============================] - 7s 366ms/step - loss: 1.6149 - accuracy: 0.2122 - val_loss: 1.5989 - val_accuracy: 0.2432\n",
      "Epoch 19/20\n",
      "20/20 [==============================] - 9s 422ms/step - loss: 1.5938 - accuracy: 0.2599 - val_loss: 1.5989 - val_accuracy: 0.2425\n",
      "Epoch 20/20\n",
      "20/20 [==============================] - 8s 416ms/step - loss: 1.6009 - accuracy: 0.2345 - val_loss: 1.5990 - val_accuracy: 0.2425\n"
     ]
    }
   ],
   "source": [
    "with tf.device('/device:GPU:0'):\n",
    "    result = model.fit(\n",
    "          train_generator,\n",
    "          steps_per_epoch = 20,\n",
    "          batch_size = train_batch,\n",
    "          validation_data = validation_generator,\n",
    "          validation_batch_size= val_batch,\n",
    "          epochs=20)"
   ]
  },
  {
   "cell_type": "code",
   "execution_count": 28,
   "metadata": {
    "colab": {
     "base_uri": "https://localhost:8080/"
    },
    "id": "kAMVOUBUhcj9",
    "outputId": "db434bb6-e8e4-472f-bdc7-cb037b48335b"
   },
   "outputs": [
    {
     "name": "stdout",
     "output_type": "stream",
     "text": [
      "130/130 [==============================] - 4s 29ms/step - loss: 1.5990 - accuracy: 0.2425\n"
     ]
    },
    {
     "data": {
      "text/plain": [
       "[1.5989983081817627, 0.24247103929519653]"
      ]
     },
     "execution_count": 28,
     "metadata": {},
     "output_type": "execute_result"
    }
   ],
   "source": [
    "model.evaluate(validation_generator)"
   ]
  },
  {
   "cell_type": "code",
   "execution_count": 29,
   "metadata": {
    "colab": {
     "base_uri": "https://localhost:8080/"
    },
    "id": "Ufw4FqsmU-g2",
    "outputId": "8f3fdd61-6da5-452f-e187-73ff2c55f313"
   },
   "outputs": [
    {
     "data": {
      "text/plain": [
       "dict_keys(['loss', 'accuracy', 'val_loss', 'val_accuracy'])"
      ]
     },
     "execution_count": 29,
     "metadata": {},
     "output_type": "execute_result"
    }
   ],
   "source": [
    "x = result.history.keys()\n",
    "x"
   ]
  },
  {
   "cell_type": "code",
   "execution_count": 30,
   "metadata": {
    "colab": {
     "base_uri": "https://localhost:8080/",
     "height": 573
    },
    "id": "dOKPsS3HWwUn",
    "outputId": "2abfc7a2-821f-43a7-bf5b-7c88fd80c488"
   },
   "outputs": [
    {
     "name": "stderr",
     "output_type": "stream",
     "text": [
      "Using plaidml.keras.backend backend.\n"
     ]
    },
    {
     "data": {
      "image/png": "[encoded data removed]",
      "text/plain": [
       "<Figure size 432x288 with 1 Axes>"
      ]
     },
     "metadata": {
      "needs_background": "light"
     },
     "output_type": "display_data"
    },
    {
     "data": {
      "image/png": "[encoded data removed]",
      "text/plain": [
       "<Figure size 432x288 with 1 Axes>"
      ]
     },
     "metadata": {
      "needs_background": "light"
     },
     "output_type": "display_data"
    }
   ],
   "source": [
    "\n",
    "# Visualize training history\n",
    "from keras.models import Sequential\n",
    "from keras.layers import Dense\n",
    "import matplotlib.pyplot as plt\n",
    "import numpy\n",
    "plt.plot(result.history['accuracy'])\n",
    "plt.plot(result.history['val_accuracy'])\n",
    "plt.title('model accuracy')\n",
    "plt.ylabel('accuracy')\n",
    "plt.xlabel('epoch')\n",
    "plt.legend(['train', 'test'], loc='upper left')\n",
    "plt.show()\n",
    "# summarize history for loss\n",
    "plt.plot(result.history['loss'])\n",
    "plt.plot(result.history['val_loss'])\n",
    "plt.title('model loss')\n",
    "plt.ylabel('loss')\n",
    "plt.xlabel('epoch')\n",
    "plt.legend(['train', 'test'], loc='upper left')\n",
    "plt.show()"
   ]
  },
  {
   "cell_type": "code",
   "execution_count": 34,
   "metadata": {
    "id": "u7p4aMxliqvO"
   },
   "outputs": [],
   "source": [
    "y_pred1 = model.predict(validation_generator)"
   ]
  },
  {
   "cell_type": "code",
   "execution_count": 83,
   "metadata": {
    "colab": {
     "base_uri": "https://localhost:8080/"
    },
    "id": "-qhQ6JA_i0YM",
    "outputId": "9797b44c-ae92-4003-a7e8-93fb690710fa"
   },
   "outputs": [
    {
     "data": {
      "text/plain": [
       "array([[0.642549  , 0.83055526, 0.6486229 , 0.6091888 , 0.7995124 ],\n",
       "       [0.642549  , 0.83055526, 0.6486229 , 0.6091888 , 0.7995124 ],\n",
       "       [0.642549  , 0.83055526, 0.6486229 , 0.6091888 , 0.7995124 ],\n",
       "       ...,\n",
       "       [0.642549  , 0.83055526, 0.6486229 , 0.6091888 , 0.7995124 ],\n",
       "       [0.642549  , 0.83055526, 0.6486229 , 0.6091888 , 0.7995124 ],\n",
       "       [0.642549  , 0.83055526, 0.6486229 , 0.6091888 , 0.7995124 ]],\n",
       "      dtype=float32)"
      ]
     },
     "execution_count": 83,
     "metadata": {},
     "output_type": "execute_result"
    }
   ],
   "source": [
    "y_pred1"
   ]
  },
  {
   "cell_type": "code",
   "execution_count": 50,
   "metadata": {
    "id": "TRKNoHsBNvdR"
   },
   "outputs": [],
   "source": [
    "list1 = []\n",
    "for i in range(0,len(validation_generator)):\n",
    "    for j in range(0,val_batch):\n",
    "        try:\n",
    "              list1.append(validation_generator[i][1][j].tolist())\n",
    "        except:\n",
    "              break"
   ]
  },
  {
   "cell_type": "code",
   "execution_count": 82,
   "metadata": {
    "id": "K-SgD9VNRfD-"
   },
   "outputs": [
    {
     "data": {
      "text/plain": [
       "<tf.Tensor: shape=(5, 5), dtype=int32, numpy=\n",
       "array([[  0, 229,   1,   0,   0],\n",
       "       [  0, 315,   0,   0,   0],\n",
       "       [  0, 235,   0,   0,   0],\n",
       "       [  0, 220,   0,   0,   0],\n",
       "       [  0, 295,   0,   0,   0]])>"
      ]
     },
     "execution_count": 82,
     "metadata": {},
     "output_type": "execute_result"
    }
   ],
   "source": [
    "tf.math.confusion_matrix(\n",
    "    list1, np.argmax(y_pred1, axis=1), num_classes=None, weights=None, dtype=tf.dtypes.int32,\n",
    "    name=None\n",
    ")"
   ]
  }
 ],
 "metadata": {
  "accelerator": "GPU",
  "colab": {
   "collapsed_sections": [],
   "name": "flowerclassification_28_march.ipynb",
   "provenance": []
  },
  "kernelspec": {
   "display_name": "Python 3",
   "language": "python",
   "name": "python3"
  },
  "language_info": {
   "codemirror_mode": {
    "name": "ipython",
    "version": 3
   },
   "file_extension": ".py",
   "mimetype": "text/x-python",
   "name": "python",
   "nbconvert_exporter": "python",
   "pygments_lexer": "ipython3",
   "version": "3.9.2"
  }
 },
 "nbformat": 4,
 "nbformat_minor": 1
}
